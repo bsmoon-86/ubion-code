{
  "cells": [
    {
      "cell_type": "markdown",
      "metadata": {
        "hide_input": false,
        "id": "Wh8e7v_sbhJc"
      },
      "source": [
        "# 8장. 마무리"
      ]
    },
    {
      "cell_type": "markdown",
      "metadata": {
        "id": "F4A8IGNjbhJl"
      },
      "source": [
        "*아래 링크를 통해 이 노트북을 주피터 노트북 뷰어(nbviewer.org)로 보거나 구글 코랩(colab.research.google.com)에서 실행할 수 있습니다.*\n",
        "\n",
        "<table class=\"tfo-notebook-buttons\" align=\"left\">\n",
        "  <td>\n",
        "    <a target=\"_blank\" href=\"https://nbviewer.org/github/rickiepark/intro_ml_with_python_2nd_revised/blob/main/08-conclusion.ipynb\"><img src=\"https://jupyter.org/assets/share.png\" width=\"60\" />주피터 노트북 뷰어로 보기</a>\n",
        "  </td>\n",
        "  <td>\n",
        "    <a target=\"_blank\" href=\"https://colab.research.google.com/github/rickiepark/intro_ml_with_python_2nd_revised/blob/main/08-conclusion.ipynb\"><img src=\"https://www.tensorflow.org/images/colab_logo_32px.png\" />구글 코랩(Colab)에서 실행하기</a>\n",
        "  </td>\n",
        "</table>"
      ]
    },
    {
      "cell_type": "markdown",
      "metadata": {
        "id": "Ltw2c8JgbhJq"
      },
      "source": [
        "## 8.1 머신 러닝 문제 접근 방법\n",
        "### 8.1.1 의사 결정 참여\n",
        "## 8.2 프로토타입에서 제품까지\n",
        "## 8.3 제품 시스템 테스트"
      ]
    },
    {
      "cell_type": "markdown",
      "metadata": {
        "id": "ItCNiqQzbhJr"
      },
      "source": [
        "## 8.4 나만의 추정기 만들기"
      ]
    },
    {
      "cell_type": "code",
      "execution_count": 1,
      "metadata": {
        "id": "hxgWKxJTbhJr"
      },
      "outputs": [],
      "source": [
        "from sklearn.base import BaseEstimator, TransformerMixin\n",
        "\n",
        "class MyTransformer(BaseEstimator, TransformerMixin):\n",
        "    def __init__(self, first_paramter=1, second_parameter=2):\n",
        "        # __init__ 메소드에 필요한 모든 매개변수를 나열합니다\n",
        "        self.first_paramter = 1\n",
        "        self.second_parameter = 2\n",
        "\n",
        "    def fit(self, X, y=None):\n",
        "        # fit 메소드는 X와 y 매개변수만을 갖습니다\n",
        "        # 비지도 학습 모델이더라도 y 매개변수를 받도록 해야합니다!\n",
        "\n",
        "        # 모델 학습 시작\n",
        "        print(\"모델 학습을 시작합니다\")\n",
        "        # 객체 자신인 self를 반환합니다\n",
        "        return self\n",
        "\n",
        "    def transform(self, X):\n",
        "        # transform 메소드는 X 매개변수만을 받습니다\n",
        "\n",
        "        # X를 변환합니다\n",
        "        X_transformed = X + 1\n",
        "        return X_transformed"
      ]
    },
    {
      "cell_type": "markdown",
      "metadata": {
        "id": "aVRFWfy0bhJt"
      },
      "source": [
        "## 8.5 더 배울 것들\n",
        "### 8.5.1 이론\n",
        "### 8.5.2 다른 머신 러닝 프레임워크, 패키지\n",
        "### 8.5.3 랭킹, 추천 시스템과 그외 다른 알고리즘\n",
        "### 8.5.4 확률 모델렝, 추론, 확률적 프로그래밍\n",
        "### 8.5.5 신경망\n",
        "### 8.5.6 대규모 데이터셋으로 확장\n",
        "### 8.5.7 실력 기르기"
      ]
    },
    {
      "cell_type": "markdown",
      "metadata": {
        "id": "K-xsaX_rbhJw"
      },
      "source": [
        "## 8.6 마치며"
      ]
    }
  ],
  "metadata": {
    "anaconda-cloud": {},
    "environment": {
      "kernel": "python3",
      "name": "common-cpu.m102",
      "type": "gcloud",
      "uri": "gcr.io/deeplearning-platform-release/base-cpu:m102"
    },
    "kernelspec": {
      "display_name": "Python 3",
      "language": "python",
      "name": "python3"
    },
    "language_info": {
      "codemirror_mode": {
        "name": "ipython",
        "version": 3
      },
      "file_extension": ".py",
      "mimetype": "text/x-python",
      "name": "python",
      "nbconvert_exporter": "python",
      "pygments_lexer": "ipython3",
      "version": "3.7.3"
    },
    "colab": {
      "provenance": []
    }
  },
  "nbformat": 4,
  "nbformat_minor": 0
}