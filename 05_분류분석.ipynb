{
 "cells": [
  {
   "attachments": {},
   "cell_type": "markdown",
   "metadata": {},
   "source": [
    "## 분류 분석\n",
    "- 실제 분류와 예측 분류가 얼마나 일치했는가를 기반으로 알고리즘 성능을 평가\n",
    "\n",
    "### 정확도 \n",
    "- 실제 데이터에서 예측 데이터가 얼마나 같은지 판단하는 지표\n",
    "- 데이터 구성에 따라 머신러닝 모델의 성능을 왜곡할 가능성이 존재\n",
    "\n",
    "### 혼동행렬\n",
    "- 이진 분류의 예측 오류가 얼마이고 어떠한 유형의 오류가 발생하고 있는지 나타내는 지표\n",
    "- 4분면 행렬에서 실제 라젤 클래스 값과 예측 라벨 클래스 값이 어떠한 유형을 가지고 매핑이 되는지 나타냄\n",
    "    - TN : 예측 값이 Negative(0), 실제 값도 Negative(0)\n",
    "    - FP : 예측 값이 Positive(1), 실제 값이 Negative(0)\n",
    "    - FN : 예측 값이 Negative(0), 실제 값이 Positive(1)\n",
    "    - TP : 예측 값이 Positive(1), 실제 값도 Positive(1)\n",
    "\n",
    "### 정밀도 \n",
    "- Positive로 예측한 것들 중 실제로도 Positive인 것들의 비율\n",
    "- Positive 예측 성능을 더욱 정밀하게 측정하기 위한 평가지표\n",
    "- 양성 예측도라 불린다. \n",
    "- 정밀도가 상대적인 중요성을 가지는 경우는 실제 Negative인 데이터를 Positive로 잘못 예측했을 때 업무상 큰 영향이 발생할 때\n",
    "\n",
    "### 재현율\n",
    "- 실제 Positive인 것들 중 Positive로 예측한 비율\n",
    "\n",
    "### F1 스코어\n",
    "- 정밀도와 재현율을 결합한 분류 성능 지표\n",
    "- 실제 Positive인 것들 중 Positive로 예측한 것들의 비율\n",
    "- 정밀도와 재현율이 어느 한쪽으로 치우치지 않고 적절한 조화를 이루는 경우에 상대적으로 높은 수치를 나타냄\n",
    "\n",
    "## ROC 곡선과 AUC 스코어\n",
    "- ROC 곡선은 FPR(False Positive Rate)이 변할 때 TPR(True Positivie Rate)이 변하는 것을 나타내는 곡선\n",
    "- AUC 스코어는 ROC 곡선 아래 부분의 면적 값을 분류하는 성능 지표로서 사용"
   ]
  },
  {
   "cell_type": "code",
   "execution_count": 3,
   "metadata": {},
   "outputs": [],
   "source": [
    "from sklearn.datasets import load_iris\n",
    "import pandas as pd"
   ]
  },
  {
   "cell_type": "code",
   "execution_count": 4,
   "metadata": {},
   "outputs": [
    {
     "data": {
      "text/html": [
       "<div>\n",
       "<style scoped>\n",
       "    .dataframe tbody tr th:only-of-type {\n",
       "        vertical-align: middle;\n",
       "    }\n",
       "\n",
       "    .dataframe tbody tr th {\n",
       "        vertical-align: top;\n",
       "    }\n",
       "\n",
       "    .dataframe thead th {\n",
       "        text-align: right;\n",
       "    }\n",
       "</style>\n",
       "<table border=\"1\" class=\"dataframe\">\n",
       "  <thead>\n",
       "    <tr style=\"text-align: right;\">\n",
       "      <th></th>\n",
       "      <th>sepal length (cm)</th>\n",
       "      <th>sepal width (cm)</th>\n",
       "      <th>petal length (cm)</th>\n",
       "      <th>petal width (cm)</th>\n",
       "      <th>Species</th>\n",
       "    </tr>\n",
       "  </thead>\n",
       "  <tbody>\n",
       "    <tr>\n",
       "      <th>0</th>\n",
       "      <td>5.1</td>\n",
       "      <td>3.5</td>\n",
       "      <td>1.4</td>\n",
       "      <td>0.2</td>\n",
       "      <td>0</td>\n",
       "    </tr>\n",
       "    <tr>\n",
       "      <th>1</th>\n",
       "      <td>4.9</td>\n",
       "      <td>3.0</td>\n",
       "      <td>1.4</td>\n",
       "      <td>0.2</td>\n",
       "      <td>0</td>\n",
       "    </tr>\n",
       "    <tr>\n",
       "      <th>2</th>\n",
       "      <td>4.7</td>\n",
       "      <td>3.2</td>\n",
       "      <td>1.3</td>\n",
       "      <td>0.2</td>\n",
       "      <td>0</td>\n",
       "    </tr>\n",
       "    <tr>\n",
       "      <th>3</th>\n",
       "      <td>4.6</td>\n",
       "      <td>3.1</td>\n",
       "      <td>1.5</td>\n",
       "      <td>0.2</td>\n",
       "      <td>0</td>\n",
       "    </tr>\n",
       "    <tr>\n",
       "      <th>4</th>\n",
       "      <td>5.0</td>\n",
       "      <td>3.6</td>\n",
       "      <td>1.4</td>\n",
       "      <td>0.2</td>\n",
       "      <td>0</td>\n",
       "    </tr>\n",
       "  </tbody>\n",
       "</table>\n",
       "</div>"
      ],
      "text/plain": [
       "   sepal length (cm)  sepal width (cm)  petal length (cm)  petal width (cm)  \\\n",
       "0                5.1               3.5                1.4               0.2   \n",
       "1                4.9               3.0                1.4               0.2   \n",
       "2                4.7               3.2                1.3               0.2   \n",
       "3                4.6               3.1                1.5               0.2   \n",
       "4                5.0               3.6                1.4               0.2   \n",
       "\n",
       "   Species  \n",
       "0        0  \n",
       "1        0  \n",
       "2        0  \n",
       "3        0  \n",
       "4        0  "
      ]
     },
     "execution_count": 4,
     "metadata": {},
     "output_type": "execute_result"
    }
   ],
   "source": [
    "iris = load_iris()\n",
    "## iris.data는 독립변수만으로 된 데이터\n",
    "iris_dt = iris.data\n",
    "## iris.target 종속변수 값\n",
    "iris_label = iris.target\n",
    "\n",
    "df = pd.DataFrame(data = iris_dt, columns=iris.feature_names)\n",
    "df['Species'] = iris_label\n",
    "\n",
    "df.head()"
   ]
  },
  {
   "cell_type": "code",
   "execution_count": 5,
   "metadata": {},
   "outputs": [],
   "source": [
    "## 데이터의 분할\n",
    "from sklearn.model_selection import train_test_split\n",
    "x_train, x_test, y_train, y_test = train_test_split(\n",
    "    iris_dt, \n",
    "    iris_label, \n",
    "    test_size= 0.2, \n",
    "    random_state=0, \n",
    "    stratify = iris_label\n",
    ")"
   ]
  },
  {
   "cell_type": "code",
   "execution_count": 6,
   "metadata": {},
   "outputs": [
    {
     "data": {
      "text/plain": [
       "sepal length (cm)    0\n",
       "sepal width (cm)     0\n",
       "petal length (cm)    0\n",
       "petal width (cm)     0\n",
       "Species              0\n",
       "dtype: int64"
      ]
     },
     "execution_count": 6,
     "metadata": {},
     "output_type": "execute_result"
    }
   ],
   "source": [
    "## 데이터의 전처리 \n",
    "## 아이리스 데이터는 독립변수들이 모두 연속형으로 단위가 동일하기 때문에 표준화 정규화 등의 전처리가 필요 X\n",
    "## 결측치 확인\n",
    "df.isna().sum()"
   ]
  },
  {
   "cell_type": "code",
   "execution_count": 7,
   "metadata": {},
   "outputs": [],
   "source": [
    "## 모델 학습 \n",
    "## 의사결정나무를 사용해서 분류 분석 수행\n",
    "## 트리의 깊이는 5, 3, 1로 설정한 의사결정나무 모델 세가지를 생성\n",
    "from sklearn.tree import DecisionTreeClassifier\n",
    "dtree_clf_5 = DecisionTreeClassifier(max_depth=5, random_state=100)\n",
    "dtree_clf_3 = DecisionTreeClassifier(max_depth=3, random_state=100)\n",
    "dtree_clf_1 = DecisionTreeClassifier(max_depth=1, random_state=100)"
   ]
  },
  {
   "cell_type": "code",
   "execution_count": 8,
   "metadata": {},
   "outputs": [
    {
     "name": "stdout",
     "output_type": "stream",
     "text": [
      "교차검증 정확도 : [0.917 1.    0.917 1.    1.    0.833 1.    0.917 1.    0.833]\n",
      "평균 검증 정확도 : 0.9417\n"
     ]
    }
   ],
   "source": [
    "## 검증 평가 10회\n",
    "from sklearn.model_selection import cross_val_score\n",
    "import numpy as np\n",
    "scores = cross_val_score(dtree_clf_5, x_train, y_train, scoring='accuracy', cv = 10)\n",
    "print('교차검증 정확도 :', np.round(scores, 3))\n",
    "print('평균 검증 정확도 :', np.round(np.mean(scores), 4))"
   ]
  },
  {
   "cell_type": "code",
   "execution_count": 9,
   "metadata": {},
   "outputs": [
    {
     "name": "stdout",
     "output_type": "stream",
     "text": [
      "교차검증 정확도 : [0.917 1.    0.917 0.917 1.    0.833 1.    0.917 0.917 0.833]\n",
      "평균 검증 정확도 : 0.925\n"
     ]
    }
   ],
   "source": [
    "scores = cross_val_score(dtree_clf_3, x_train, y_train, scoring='accuracy', cv = 10)\n",
    "print('교차검증 정확도 :', np.round(scores, 3))\n",
    "print('평균 검증 정확도 :', np.round(np.mean(scores), 4))"
   ]
  },
  {
   "cell_type": "code",
   "execution_count": 10,
   "metadata": {},
   "outputs": [
    {
     "name": "stdout",
     "output_type": "stream",
     "text": [
      "교차검증 정확도 : [0.667 0.667 0.667 0.667 0.667 0.667 0.667 0.667 0.667 0.667]\n",
      "평균 검증 정확도 : 0.6667\n"
     ]
    }
   ],
   "source": [
    "scores = cross_val_score(dtree_clf_1, x_train, y_train, scoring='accuracy', cv = 10)\n",
    "print('교차검증 정확도 :', np.round(scores, 3))\n",
    "print('평균 검증 정확도 :', np.round(np.mean(scores), 4))"
   ]
  },
  {
   "cell_type": "code",
   "execution_count": 11,
   "metadata": {},
   "outputs": [
    {
     "name": "stdout",
     "output_type": "stream",
     "text": [
      "의사결정나무(교차검증 후) 예측 정확도 :  0.96667\n"
     ]
    }
   ],
   "source": [
    "## 교차 검증 결과 : 트리의 깊이가 5인 경우 가장 높은 정확도를 나타냄\n",
    "## 해당 모델로 평가 데이터를 적용하여 알고리즘 성능 평가를 수행 후 예측 값을 지정\n",
    "dtree_clf_5.fit(x_train, y_train)\n",
    "pred = dtree_clf_5.predict(x_test)\n",
    "from sklearn.metrics import accuracy_score\n",
    "print(\"의사결정나무(교차검증 후) 예측 정확도 : {0: .5f}\".format(accuracy_score(y_test, pred)))"
   ]
  },
  {
   "cell_type": "code",
   "execution_count": 12,
   "metadata": {},
   "outputs": [
    {
     "data": {
      "text/html": [
       "<div>\n",
       "<style scoped>\n",
       "    .dataframe tbody tr th:only-of-type {\n",
       "        vertical-align: middle;\n",
       "    }\n",
       "\n",
       "    .dataframe tbody tr th {\n",
       "        vertical-align: top;\n",
       "    }\n",
       "\n",
       "    .dataframe thead th {\n",
       "        text-align: right;\n",
       "    }\n",
       "</style>\n",
       "<table border=\"1\" class=\"dataframe\">\n",
       "  <thead>\n",
       "    <tr style=\"text-align: right;\">\n",
       "      <th></th>\n",
       "      <th>Pred Species</th>\n",
       "    </tr>\n",
       "  </thead>\n",
       "  <tbody>\n",
       "    <tr>\n",
       "      <th>0</th>\n",
       "      <td>0</td>\n",
       "    </tr>\n",
       "    <tr>\n",
       "      <th>1</th>\n",
       "      <td>1</td>\n",
       "    </tr>\n",
       "    <tr>\n",
       "      <th>2</th>\n",
       "      <td>0</td>\n",
       "    </tr>\n",
       "    <tr>\n",
       "      <th>3</th>\n",
       "      <td>2</td>\n",
       "    </tr>\n",
       "    <tr>\n",
       "      <th>4</th>\n",
       "      <td>0</td>\n",
       "    </tr>\n",
       "  </tbody>\n",
       "</table>\n",
       "</div>"
      ],
      "text/plain": [
       "   Pred Species\n",
       "0             0\n",
       "1             1\n",
       "2             0\n",
       "3             2\n",
       "4             0"
      ]
     },
     "execution_count": 12,
     "metadata": {},
     "output_type": "execute_result"
    }
   ],
   "source": [
    "pred = pd.DataFrame(pred, columns=['Pred Species'])\n",
    "pred.head()"
   ]
  },
  {
   "cell_type": "code",
   "execution_count": 13,
   "metadata": {},
   "outputs": [
    {
     "data": {
      "text/html": [
       "<div>\n",
       "<style scoped>\n",
       "    .dataframe tbody tr th:only-of-type {\n",
       "        vertical-align: middle;\n",
       "    }\n",
       "\n",
       "    .dataframe tbody tr th {\n",
       "        vertical-align: top;\n",
       "    }\n",
       "\n",
       "    .dataframe thead th {\n",
       "        text-align: right;\n",
       "    }\n",
       "</style>\n",
       "<table border=\"1\" class=\"dataframe\">\n",
       "  <thead>\n",
       "    <tr style=\"text-align: right;\">\n",
       "      <th></th>\n",
       "      <th>Actual Species</th>\n",
       "    </tr>\n",
       "  </thead>\n",
       "  <tbody>\n",
       "    <tr>\n",
       "      <th>0</th>\n",
       "      <td>0</td>\n",
       "    </tr>\n",
       "    <tr>\n",
       "      <th>1</th>\n",
       "      <td>1</td>\n",
       "    </tr>\n",
       "    <tr>\n",
       "      <th>2</th>\n",
       "      <td>0</td>\n",
       "    </tr>\n",
       "    <tr>\n",
       "      <th>3</th>\n",
       "      <td>2</td>\n",
       "    </tr>\n",
       "    <tr>\n",
       "      <th>4</th>\n",
       "      <td>0</td>\n",
       "    </tr>\n",
       "  </tbody>\n",
       "</table>\n",
       "</div>"
      ],
      "text/plain": [
       "   Actual Species\n",
       "0               0\n",
       "1               1\n",
       "2               0\n",
       "3               2\n",
       "4               0"
      ]
     },
     "execution_count": 13,
     "metadata": {},
     "output_type": "execute_result"
    }
   ],
   "source": [
    "actual = pd.DataFrame(y_test, columns=['Actual Species'])\n",
    "actual.head()"
   ]
  },
  {
   "cell_type": "code",
   "execution_count": 14,
   "metadata": {},
   "outputs": [
    {
     "data": {
      "text/html": [
       "<div>\n",
       "<style scoped>\n",
       "    .dataframe tbody tr th:only-of-type {\n",
       "        vertical-align: middle;\n",
       "    }\n",
       "\n",
       "    .dataframe tbody tr th {\n",
       "        vertical-align: top;\n",
       "    }\n",
       "\n",
       "    .dataframe thead th {\n",
       "        text-align: right;\n",
       "    }\n",
       "</style>\n",
       "<table border=\"1\" class=\"dataframe\">\n",
       "  <thead>\n",
       "    <tr style=\"text-align: right;\">\n",
       "      <th></th>\n",
       "      <th>Actual Species</th>\n",
       "      <th>Pred Species</th>\n",
       "    </tr>\n",
       "  </thead>\n",
       "  <tbody>\n",
       "    <tr>\n",
       "      <th>0</th>\n",
       "      <td>0</td>\n",
       "      <td>0</td>\n",
       "    </tr>\n",
       "    <tr>\n",
       "      <th>1</th>\n",
       "      <td>1</td>\n",
       "      <td>1</td>\n",
       "    </tr>\n",
       "    <tr>\n",
       "      <th>2</th>\n",
       "      <td>0</td>\n",
       "      <td>0</td>\n",
       "    </tr>\n",
       "    <tr>\n",
       "      <th>3</th>\n",
       "      <td>2</td>\n",
       "      <td>2</td>\n",
       "    </tr>\n",
       "    <tr>\n",
       "      <th>4</th>\n",
       "      <td>0</td>\n",
       "      <td>0</td>\n",
       "    </tr>\n",
       "  </tbody>\n",
       "</table>\n",
       "</div>"
      ],
      "text/plain": [
       "   Actual Species  Pred Species\n",
       "0               0             0\n",
       "1               1             1\n",
       "2               0             0\n",
       "3               2             2\n",
       "4               0             0"
      ]
     },
     "execution_count": 14,
     "metadata": {},
     "output_type": "execute_result"
    }
   ],
   "source": [
    "classify_result = pd.concat([actual, pred], axis=1)\n",
    "classify_result.to_csv('clf_result.csv', index=False, encoding='utf-8')\n",
    "classify_result.head()"
   ]
  },
  {
   "cell_type": "code",
   "execution_count": null,
   "metadata": {},
   "outputs": [],
   "source": []
  }
 ],
 "metadata": {
  "kernelspec": {
   "display_name": "Python 3",
   "language": "python",
   "name": "python3"
  },
  "language_info": {
   "codemirror_mode": {
    "name": "ipython",
    "version": 3
   },
   "file_extension": ".py",
   "mimetype": "text/x-python",
   "name": "python",
   "nbconvert_exporter": "python",
   "pygments_lexer": "ipython3",
   "version": "3.13.2"
  },
  "orig_nbformat": 4,
  "vscode": {
   "interpreter": {
    "hash": "9b5f1854d503dd71c3856bf3749ce047b3ad1e5d370827a8e1d34b45663952a6"
   }
  }
 },
 "nbformat": 4,
 "nbformat_minor": 2
}
