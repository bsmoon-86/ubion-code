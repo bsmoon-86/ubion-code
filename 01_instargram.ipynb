{
 "cells": [
  {
   "cell_type": "code",
   "execution_count": 112,
   "metadata": {},
   "outputs": [],
   "source": [
    "from selenium import webdriver\n",
    "from selenium.webdriver.chrome.service import Service\n",
    "from selenium.webdriver.chrome.options import Options\n",
    "from selenium.webdriver.common.by import By\n",
    "from selenium.webdriver.common.keys import Keys\n",
    "from bs4 import BeautifulSoup as bs\n",
    "import urllib.request\n",
    "import pandas as pd"
   ]
  },
  {
   "cell_type": "code",
   "execution_count": 133,
   "metadata": {},
   "outputs": [],
   "source": [
    "driver = webdriver.Chrome()"
   ]
  },
  {
   "cell_type": "code",
   "execution_count": 134,
   "metadata": {},
   "outputs": [],
   "source": [
    "# 웹페이지 해당 주소 이동\n",
    "driver.get(\"https://instagram.com\")"
   ]
  },
  {
   "cell_type": "code",
   "execution_count": 135,
   "metadata": {},
   "outputs": [],
   "source": [
    "#인스타그램 자동로그인\n",
    "driver.implicitly_wait(10)  #나타날때까지 최대 10초동안 기다려\n",
    "login_id = driver.find_element(By.CSS_SELECTOR, 'input[name=\"username\"]')\n",
    "login_id.send_keys('') # 아이디 입력\n",
    "login_pwd = driver.find_element(By.CSS_SELECTOR, 'input[name=\"password\"]')\n",
    "login_pwd.send_keys('')\n",
    "driver.implicitly_wait(10)\n",
    "login_id.send_keys(Keys.ENTER) #enter 키를 쳐주세요\n",
    "\n",
    "# implicilty_wait 은 html,css 정보가 불러와지면 시간과 무관하게 넘어가진다. 단, () 안에 입력한 숫자 시간을 초과할 경우, 에러가 발생한다."
   ]
  },
  {
   "cell_type": "code",
   "execution_count": 136,
   "metadata": {},
   "outputs": [],
   "source": [
    "driver.implicitly_wait(15)\n",
    "search_element = driver.find_element(By.CSS_SELECTOR, 'svg[aria-label=\"검색\"]')\n",
    "\n",
    "search_element.click()"
   ]
  },
  {
   "cell_type": "code",
   "execution_count": 137,
   "metadata": {},
   "outputs": [],
   "source": [
    "driver.implicitly_wait(15)\n",
    "input_element = driver.find_element(By.CSS_SELECTOR, 'input[aria-label=\"입력 검색\"]')\n",
    "\n",
    "input_element.send_keys('현대')\n",
    "input_element.click()\n"
   ]
  },
  {
   "cell_type": "code",
   "execution_count": 138,
   "metadata": {},
   "outputs": [],
   "source": [
    "driver.implicitly_wait(15)\n",
    "list_element = driver.find_elements(By.CSS_SELECTOR, '.x9f619.x78zum5.xdt5ytf.x1iyjqo2.x6ikm8r.x1odjw0f.xh8yej3.xocp1fn .x1i10hfl')\n",
    "# len(list_element)\n",
    "list_element[0].click()\n"
   ]
  },
  {
   "cell_type": "code",
   "execution_count": null,
   "metadata": {},
   "outputs": [],
   "source": [
    "# driver.implicitly_wait(15)\n",
    "# #첫번째 사진 누름\n",
    "# first_img = driver.find_element(By.CSS_SELECTOR, '._aagw').click() #만약에 두번째 있는 사진부터 하고 싶다면, find_elements 쓰고, 인덱싱 하면 됨\n",
    "\n",
    "# driver.implicitly_wait(15)\n",
    "\n",
    "# for i in range(50):\n",
    "#     try:\n",
    "#         #사진 저장\n",
    "#         img_element = driver.find_element(By.CSS_SELECTOR, '._aatk .x5yr21d.xu96u03.x10l6tqk.x13vifvy.x87ps6o.xh8yej3')\n",
    "#         img_src = img_element.get_attribute('src')\n",
    "#         urllib.request.urlretrieve(img_src, f'{i}.jpg')\n",
    "\n",
    "#         #다음 버튼 클릭하기\n",
    "#         driver.find_element(By.CSS_SELECTOR, '._aaqg ._abl-').click()\n",
    "#     except:\n",
    "#         # 다음 버튼 클릭하기\n",
    "#         driver.find_element(By.CSS_SELECTOR, '._aaqg ._abl-').click()"
   ]
  },
  {
   "cell_type": "code",
   "execution_count": 139,
   "metadata": {},
   "outputs": [
    {
     "name": "stdout",
     "output_type": "stream",
     "text": [
      "lilliliilllillillill /// 디엠 막혀있는데 일시적인건가요?\n",
      "eunho_cha7 /// 3번까지는 가능할겁니다\n",
      "hyundaihighschool /// @chxyuxho\n"
     ]
    }
   ],
   "source": [
    "driver.implicitly_wait(15)\n",
    "#첫번째 사진 누름\n",
    "first_img = driver.find_element(By.CSS_SELECTOR, '._aagw').click() #만약에 두번째 있는 사진부터 하고 싶다면, find_elements 쓰고, 인덱싱 하면 됨\n",
    "\n",
    "driver.implicitly_wait(15)\n",
    "\n",
    "data = {\n",
    "    'ID' : [], \n",
    "    'Commet' : []\n",
    "}\n",
    "\n",
    "for i in range(3):\n",
    "    try:\n",
    "        driver.implicitly_wait(15)\n",
    "        ids = driver.find_elements(By.CSS_SELECTOR, 'h2[class=\"_a9zc\"]')\n",
    "        ids.extend(driver.find_elements(By.CSS_SELECTOR, 'h3[class=\"_a9zc\"]'))\n",
    "        # print(len(ids))\n",
    "        rps = driver.find_elements(By.CSS_SELECTOR, 'div[class=\"_a9zs\"]')\n",
    "        # data['ID'].append(first_id.text)\n",
    "        # print(len(rps))\n",
    "        for id, rp in zip(ids, rps):\n",
    "            # if (id.text) & (rp.text):\n",
    "            print(id.text, '///' ,rp.text.replace('\\n', ' '))\n",
    "            data['ID'].append(id.text)\n",
    "            data['Commet'].append(rp.text.replace('\\n', ' '))\n",
    "            \n",
    "        #다음 버튼 클릭하기\n",
    "        driver.find_element(By.CSS_SELECTOR, '._aaqg ._abl-').click()\n",
    "    except:\n",
    "        # 다음 버튼 클릭하기\n",
    "        driver.find_element(By.CSS_SELECTOR, '._aaqg ._abl-').click()\n",
    "df = pd.DataFrame(data)"
   ]
  },
  {
   "cell_type": "code",
   "execution_count": null,
   "metadata": {},
   "outputs": [
    {
     "name": "stdout",
     "output_type": "stream",
     "text": [
      "48\n",
      "48\n"
     ]
    }
   ],
   "source": [
    "print(len(data['ID']))\n",
    "print(len(data['Commet']))"
   ]
  },
  {
   "cell_type": "code",
   "execution_count": null,
   "metadata": {},
   "outputs": [
    {
     "data": {
      "text/html": [
       "<div>\n",
       "<style scoped>\n",
       "    .dataframe tbody tr th:only-of-type {\n",
       "        vertical-align: middle;\n",
       "    }\n",
       "\n",
       "    .dataframe tbody tr th {\n",
       "        vertical-align: top;\n",
       "    }\n",
       "\n",
       "    .dataframe thead th {\n",
       "        text-align: right;\n",
       "    }\n",
       "</style>\n",
       "<table border=\"1\" class=\"dataframe\">\n",
       "  <thead>\n",
       "    <tr style=\"text-align: right;\">\n",
       "      <th></th>\n",
       "      <th>ID</th>\n",
       "      <th>Commet</th>\n",
       "    </tr>\n",
       "  </thead>\n",
       "  <tbody>\n",
       "    <tr>\n",
       "      <th>0</th>\n",
       "      <td>pianoman_loyalascot</td>\n",
       "      <td>フォローありがとうございました🙇</td>\n",
       "    </tr>\n",
       "    <tr>\n",
       "      <th>1</th>\n",
       "      <td>daemyung_center</td>\n",
       "      <td>힘내세요!! 제 피드도 구경오시고 맞팔 부탁드려요 ^^</td>\n",
       "    </tr>\n",
       "    <tr>\n",
       "      <th>2</th>\n",
       "      <td>kanch_a99</td>\n",
       "      <td>🅳🅼 확인부탁드려요(숨겨진 요청에 있을수도 있어요).</td>\n",
       "    </tr>\n",
       "    <tr>\n",
       "      <th>3</th>\n",
       "      <td>qoal_art</td>\n",
       "      <td>파이팅!!</td>\n",
       "    </tr>\n",
       "    <tr>\n",
       "      <th>4</th>\n",
       "      <td>eve3656</td>\n",
       "      <td>응원합니다~</td>\n",
       "    </tr>\n",
       "    <tr>\n",
       "      <th>5</th>\n",
       "      <td>_hhy_2</td>\n",
       "      <td>화이팅!!!!!!!!!! 기아 차 다 응관씨한테@사세요!!!!!</td>\n",
       "    </tr>\n",
       "    <tr>\n",
       "      <th>6</th>\n",
       "      <td>_hjyy_s</td>\n",
       "      <td>관씨 화이팅👊🏻</td>\n",
       "    </tr>\n",
       "    <tr>\n",
       "      <th>7</th>\n",
       "      <td>ablegym_junhyun</td>\n",
       "      <td>이야 나중에 기아사면 전화해야것다 어제 꿈에 응관이 나왔는디</td>\n",
       "    </tr>\n",
       "    <tr>\n",
       "      <th>8</th>\n",
       "      <td>_min_ji__yh_ru</td>\n",
       "      <td>👏👏👏👏👏</td>\n",
       "    </tr>\n",
       "    <tr>\n",
       "      <th>9</th>\n",
       "      <td>kia.eung_gwan</td>\n",
       "      <td>#기아자동차 #천안 #소렌토 #스포티지 #k3 #k5 #k8 #k9 #ev9 #ev6</td>\n",
       "    </tr>\n",
       "    <tr>\n",
       "      <th>10</th>\n",
       "      <td>kia.eung_gwan</td>\n",
       "      <td>#첫줄 . . . 셀토스 1.6 가솔린 트렌디 2WD 21,860,000 컨비니언스...</td>\n",
       "    </tr>\n",
       "    <tr>\n",
       "      <th>11</th>\n",
       "      <td>kia.eung_gwan</td>\n",
       "      <td>#첫줄 . . . 카니발 9인승 자가용 3.5 가솔린 시그니처 42,450,000 ...</td>\n",
       "    </tr>\n",
       "  </tbody>\n",
       "</table>\n",
       "</div>"
      ],
      "text/plain": [
       "                     ID                                             Commet\n",
       "0   pianoman_loyalascot                                   フォローありがとうございました🙇\n",
       "1       daemyung_center                     힘내세요!! 제 피드도 구경오시고 맞팔 부탁드려요 ^^\n",
       "2             kanch_a99                      🅳🅼 확인부탁드려요(숨겨진 요청에 있을수도 있어요).\n",
       "3              qoal_art                                              파이팅!!\n",
       "4               eve3656                                             응원합니다~\n",
       "5                _hhy_2                화이팅!!!!!!!!!! 기아 차 다 응관씨한테@사세요!!!!!\n",
       "6               _hjyy_s                                           관씨 화이팅👊🏻\n",
       "7       ablegym_junhyun                  이야 나중에 기아사면 전화해야것다 어제 꿈에 응관이 나왔는디\n",
       "8        _min_ji__yh_ru                                              👏👏👏👏👏\n",
       "9         kia.eung_gwan    #기아자동차 #천안 #소렌토 #스포티지 #k3 #k5 #k8 #k9 #ev9 #ev6\n",
       "10        kia.eung_gwan  #첫줄 . . . 셀토스 1.6 가솔린 트렌디 2WD 21,860,000 컨비니언스...\n",
       "11        kia.eung_gwan  #첫줄 . . . 카니발 9인승 자가용 3.5 가솔린 시그니처 42,450,000 ..."
      ]
     },
     "execution_count": 86,
     "metadata": {},
     "output_type": "execute_result"
    }
   ],
   "source": [
    "df"
   ]
  }
 ],
 "metadata": {
  "kernelspec": {
   "display_name": "Python 3",
   "language": "python",
   "name": "python3"
  },
  "language_info": {
   "codemirror_mode": {
    "name": "ipython",
    "version": 3
   },
   "file_extension": ".py",
   "mimetype": "text/x-python",
   "name": "python",
   "nbconvert_exporter": "python",
   "pygments_lexer": "ipython3",
   "version": "3.10.4"
  }
 },
 "nbformat": 4,
 "nbformat_minor": 2
}
