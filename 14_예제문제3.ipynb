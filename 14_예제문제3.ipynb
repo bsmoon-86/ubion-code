{
 "cells": [
  {
   "attachments": {},
   "cell_type": "markdown",
   "metadata": {},
   "source": [
    "## 객실 사용 여부 관련 데이터\n",
    "1. 데이터를 탐색하고 시각화(EDA)\n",
    "2. 결측치를 탐색하고 대체\n",
    "3. 데이터의 불균형이 존재하는가, 존재한다면서 시각화를 통해서 표시\n",
    "4. 데이터 오버샘플링\n",
    "    - 원데이터, 랜덤오버샘플링, SMOTE 3개의 데이터 셋 구성\n",
    "5. 랜덤포레스트 분류 분석으로 3개의 데이터셋의 정확도와 속도 측면으로 어떠한가 확인"
   ]
  },
  {
   "cell_type": "code",
   "execution_count": 47,
   "metadata": {},
   "outputs": [],
   "source": [
    "import pandas as pd\n",
    "import numpy as np"
   ]
  },
  {
   "cell_type": "code",
   "execution_count": 48,
   "metadata": {},
   "outputs": [
    {
     "data": {
      "text/html": [
       "<div>\n",
       "<style scoped>\n",
       "    .dataframe tbody tr th:only-of-type {\n",
       "        vertical-align: middle;\n",
       "    }\n",
       "\n",
       "    .dataframe tbody tr th {\n",
       "        vertical-align: top;\n",
       "    }\n",
       "\n",
       "    .dataframe thead th {\n",
       "        text-align: right;\n",
       "    }\n",
       "</style>\n",
       "<table border=\"1\" class=\"dataframe\">\n",
       "  <thead>\n",
       "    <tr style=\"text-align: right;\">\n",
       "      <th></th>\n",
       "      <th>is_canceled</th>\n",
       "      <th>deposit_type</th>\n",
       "      <th>lead_time</th>\n",
       "      <th>stays_in_weekend_nights</th>\n",
       "      <th>stays_in_week_nights</th>\n",
       "      <th>is_repeated_guest</th>\n",
       "      <th>previous_cancellations</th>\n",
       "      <th>previous_bookings_not_canceled</th>\n",
       "      <th>booking_changes</th>\n",
       "      <th>days_in_waiting_list</th>\n",
       "      <th>adr</th>\n",
       "    </tr>\n",
       "  </thead>\n",
       "  <tbody>\n",
       "    <tr>\n",
       "      <th>0</th>\n",
       "      <td>0</td>\n",
       "      <td>No Deposit</td>\n",
       "      <td>105.0</td>\n",
       "      <td>2</td>\n",
       "      <td>5</td>\n",
       "      <td>NaN</td>\n",
       "      <td>0</td>\n",
       "      <td>0</td>\n",
       "      <td>1</td>\n",
       "      <td>0</td>\n",
       "      <td>131.50</td>\n",
       "    </tr>\n",
       "    <tr>\n",
       "      <th>1</th>\n",
       "      <td>0</td>\n",
       "      <td>No Deposit</td>\n",
       "      <td>303.0</td>\n",
       "      <td>2</td>\n",
       "      <td>2</td>\n",
       "      <td>NaN</td>\n",
       "      <td>0</td>\n",
       "      <td>0</td>\n",
       "      <td>0</td>\n",
       "      <td>0</td>\n",
       "      <td>73.95</td>\n",
       "    </tr>\n",
       "    <tr>\n",
       "      <th>2</th>\n",
       "      <td>0</td>\n",
       "      <td>No Deposit</td>\n",
       "      <td>33.0</td>\n",
       "      <td>2</td>\n",
       "      <td>3</td>\n",
       "      <td>0.0</td>\n",
       "      <td>0</td>\n",
       "      <td>0</td>\n",
       "      <td>0</td>\n",
       "      <td>0</td>\n",
       "      <td>NaN</td>\n",
       "    </tr>\n",
       "    <tr>\n",
       "      <th>3</th>\n",
       "      <td>0</td>\n",
       "      <td>No Deposit</td>\n",
       "      <td>48.0</td>\n",
       "      <td>0</td>\n",
       "      <td>1</td>\n",
       "      <td>0.0</td>\n",
       "      <td>0</td>\n",
       "      <td>0</td>\n",
       "      <td>1</td>\n",
       "      <td>0</td>\n",
       "      <td>80.30</td>\n",
       "    </tr>\n",
       "    <tr>\n",
       "      <th>4</th>\n",
       "      <td>0</td>\n",
       "      <td>No Deposit</td>\n",
       "      <td>216.0</td>\n",
       "      <td>4</td>\n",
       "      <td>7</td>\n",
       "      <td>0.0</td>\n",
       "      <td>0</td>\n",
       "      <td>0</td>\n",
       "      <td>2</td>\n",
       "      <td>0</td>\n",
       "      <td>60.90</td>\n",
       "    </tr>\n",
       "  </tbody>\n",
       "</table>\n",
       "</div>"
      ],
      "text/plain": [
       "   is_canceled deposit_type  lead_time  stays_in_weekend_nights  \\\n",
       "0            0   No Deposit      105.0                        2   \n",
       "1            0   No Deposit      303.0                        2   \n",
       "2            0   No Deposit       33.0                        2   \n",
       "3            0   No Deposit       48.0                        0   \n",
       "4            0   No Deposit      216.0                        4   \n",
       "\n",
       "   stays_in_week_nights  is_repeated_guest  previous_cancellations  \\\n",
       "0                     5                NaN                       0   \n",
       "1                     2                NaN                       0   \n",
       "2                     3                0.0                       0   \n",
       "3                     1                0.0                       0   \n",
       "4                     7                0.0                       0   \n",
       "\n",
       "   previous_bookings_not_canceled  booking_changes  days_in_waiting_list  \\\n",
       "0                               0                1                     0   \n",
       "1                               0                0                     0   \n",
       "2                               0                0                     0   \n",
       "3                               0                1                     0   \n",
       "4                               0                2                     0   \n",
       "\n",
       "      adr  \n",
       "0  131.50  \n",
       "1   73.95  \n",
       "2     NaN  \n",
       "3   80.30  \n",
       "4   60.90  "
      ]
     },
     "execution_count": 48,
     "metadata": {},
     "output_type": "execute_result"
    }
   ],
   "source": [
    "hotel = pd.read_csv(\"./data/hotel_bookings.csv\")\n",
    "hotel.head()"
   ]
  },
  {
   "cell_type": "code",
   "execution_count": 49,
   "metadata": {},
   "outputs": [
    {
     "data": {
      "text/plain": [
       "is_canceled                          0\n",
       "deposit_type                         0\n",
       "lead_time                            5\n",
       "stays_in_weekend_nights              0\n",
       "stays_in_week_nights                 0\n",
       "is_repeated_guest                  358\n",
       "previous_cancellations               0\n",
       "previous_bookings_not_canceled       0\n",
       "booking_changes                      0\n",
       "days_in_waiting_list                 0\n",
       "adr                               1063\n",
       "dtype: int64"
      ]
     },
     "execution_count": 49,
     "metadata": {},
     "output_type": "execute_result"
    }
   ],
   "source": [
    "## 결측치 확인 \n",
    "hotel.isna().sum()"
   ]
  },
  {
   "cell_type": "markdown",
   "metadata": {},
   "source": [
    "is_canceled 예약 취소 여부 (0=취소 안 됨, 1=취소됨)\n",
    "\n",
    "deposit_type 보증금 유형 (No Deposit, Non Refund, Refundable)\n",
    "\n",
    "lead_time 예약일과 실제 도착일 사이의 일수\n",
    "\n",
    "stays_in_weekend_nights 주말(토·일) 숙박 일수\n",
    "\n",
    "stays_in_week_nights 주중(월~금) 숙박 일수\n",
    "\n",
    "is_repeated_guest 재방문 고객 여부 (0=신규, 1=재방문)\n",
    "\n",
    "previous_cancellations 과거 예약 취소 횟수\n",
    "\n",
    "previous_bookings_not_canceled 과거 예약 중 취소되지 않은 건수\n",
    "\n",
    "booking_changes 예약 후 변경 횟수\n",
    "\n",
    "days_in_waiting_list 대기자 명단에 있었던 일수\n",
    "\n",
    "adr 평균 일일 객실 요금 (Average Daily Rate)"
   ]
  },
  {
   "cell_type": "code",
   "execution_count": 50,
   "metadata": {},
   "outputs": [
    {
     "name": "stdout",
     "output_type": "stream",
     "text": [
      "<class 'pandas.core.frame.DataFrame'>\n",
      "RangeIndex: 20000 entries, 0 to 19999\n",
      "Data columns (total 11 columns):\n",
      " #   Column                          Non-Null Count  Dtype  \n",
      "---  ------                          --------------  -----  \n",
      " 0   is_canceled                     20000 non-null  int64  \n",
      " 1   deposit_type                    20000 non-null  object \n",
      " 2   lead_time                       19995 non-null  float64\n",
      " 3   stays_in_weekend_nights         20000 non-null  int64  \n",
      " 4   stays_in_week_nights            20000 non-null  int64  \n",
      " 5   is_repeated_guest               19642 non-null  float64\n",
      " 6   previous_cancellations          20000 non-null  int64  \n",
      " 7   previous_bookings_not_canceled  20000 non-null  int64  \n",
      " 8   booking_changes                 20000 non-null  int64  \n",
      " 9   days_in_waiting_list            20000 non-null  int64  \n",
      " 10  adr                             18937 non-null  float64\n",
      "dtypes: float64(3), int64(7), object(1)\n",
      "memory usage: 1.7+ MB\n"
     ]
    }
   ],
   "source": [
    "## 데이터 타입 \n",
    "hotel.info()"
   ]
  },
  {
   "cell_type": "code",
   "execution_count": 51,
   "metadata": {},
   "outputs": [
    {
     "data": {
      "text/plain": [
       "count          20000\n",
       "unique             3\n",
       "top       No Deposit\n",
       "freq           19138\n",
       "Name: deposit_type, dtype: object"
      ]
     },
     "execution_count": 51,
     "metadata": {},
     "output_type": "execute_result"
    }
   ],
   "source": [
    "## 종속 변수 특징 파악 \n",
    "hotel.deposit_type.describe()"
   ]
  },
  {
   "cell_type": "code",
   "execution_count": 52,
   "metadata": {},
   "outputs": [
    {
     "data": {
      "text/plain": [
       "deposit_type\n",
       "No Deposit    101.965190\n",
       "Non Refund     89.689476\n",
       "Refundable     67.456154\n",
       "Name: adr, dtype: float64"
      ]
     },
     "execution_count": 52,
     "metadata": {},
     "output_type": "execute_result"
    }
   ],
   "source": [
    "hotel.groupby(hotel['deposit_type']).mean()['adr']"
   ]
  },
  {
   "attachments": {},
   "cell_type": "markdown",
   "metadata": {},
   "source": [
    "- 결측치의 존재 여부\n",
    "    - 결측치가 존재하는 변수는 3개\n",
    "    - 결측치의 총 개수는 1426개\n",
    "    - 결측치가 존재하는 변수들은 비율과 분포에 따라 각각 다른 결측치 대체 방식 사용\n",
    "- 데이터 타입\n",
    "    - 종속 변수 int\n",
    "    - 독립 변수 object, int, float\n",
    "    - object 타입은 인코딩을 통하여 변환\n",
    "- 종속 변수 특징\n",
    "    - object형\n",
    "    - 변수는 20000개 중에 19138개의 관측치가 No Deposit"
   ]
  },
  {
   "cell_type": "code",
   "execution_count": 53,
   "metadata": {},
   "outputs": [
    {
     "name": "stdout",
     "output_type": "stream",
     "text": [
      "lead time 결측치 비율 :  0.03\n",
      "is repeated guest 결측치 비율 : 1.79\n",
      "adr 결측치 비율 : 5.32\n"
     ]
    }
   ],
   "source": [
    "## 결측치의 비율 확인 \n",
    "print('lead time 결측치 비율 : ', round(5 / len(hotel)*100, 2))\n",
    "print('is repeated guest 결측치 비율 :', round(358 / len(hotel) * 100 , 2))\n",
    "print('adr 결측치 비율 :', round(1063 / len(hotel) * 100, 2))"
   ]
  },
  {
   "attachments": {},
   "cell_type": "markdown",
   "metadata": {},
   "source": [
    "- lead_time 변수는 결측치가 1% 미만이므로 결측치가 있는 행을 삭제\n",
    "- is_repreated_guest 변수의 결측치는 최빈값으로 대체\n",
    "- adr 변수의 결측치는 deposit_type별 평균으로 adr을 대체"
   ]
  },
  {
   "cell_type": "code",
   "execution_count": 54,
   "metadata": {},
   "outputs": [
    {
     "data": {
      "text/plain": [
       "is_repeated_guest\n",
       "0.0    18893\n",
       "1.0      749\n",
       "Name: count, dtype: int64"
      ]
     },
     "execution_count": 54,
     "metadata": {},
     "output_type": "execute_result"
    }
   ],
   "source": [
    "## is_repreated_guest 컬럼의 최빈값\n",
    "hotel['is_repeated_guest'].value_counts()"
   ]
  },
  {
   "cell_type": "code",
   "execution_count": 55,
   "metadata": {},
   "outputs": [
    {
     "data": {
      "text/plain": [
       "is_canceled                       0\n",
       "lead_time                         0\n",
       "stays_in_weekend_nights           0\n",
       "stays_in_week_nights              0\n",
       "is_repeated_guest                 0\n",
       "previous_cancellations            0\n",
       "previous_bookings_not_canceled    0\n",
       "booking_changes                   0\n",
       "days_in_waiting_list              0\n",
       "adr                               0\n",
       "dtype: int64"
      ]
     },
     "execution_count": 55,
     "metadata": {},
     "output_type": "execute_result"
    }
   ],
   "source": [
    "hotel_nonull = hotel\n",
    "\n",
    "## lead_time컬럼의 결측치 제거\n",
    "hotel_nonull.dropna(subset=['lead_time'], axis=0, inplace=True)\n",
    "\n",
    "## is_repeated_guest 컬럼은 최빈값(0) 대체\n",
    "hotel_nonull['is_repeated_guest'].fillna(0)\n",
    "\n",
    "## adr 변수는 연속형 변수이기 때문에 평균대치법 사용\n",
    "## 보증금 유형에 따라 adr이 다르기 때문에 그룹별 평균의 값을 대체\n",
    "fill_mean_func = lambda g : g.fillna(g.mean())\n",
    "hotel_nonull = hotel_nonull.groupby('deposit_type').apply(fill_mean_func)\n",
    "\n",
    "hotel_nonull.isna().sum()"
   ]
  },
  {
   "cell_type": "code",
   "execution_count": 56,
   "metadata": {},
   "outputs": [
    {
     "data": {
      "image/png": "[encoded data removed]",
      "text/plain": [
       "<Figure size 640x480 with 1 Axes>"
      ]
     },
     "metadata": {},
     "output_type": "display_data"
    },
    {
     "name": "stdout",
     "output_type": "stream",
     "text": [
      "0의 비율 : 88.0\n",
      "1의 비율 : 12.0\n"
     ]
    }
   ],
   "source": [
    "## 데이터 불균형 시각화 \n",
    "import seaborn as sns\n",
    "import matplotlib.pyplot as plt\n",
    "\n",
    "sns.countplot(x = 'is_canceled', data = hotel_nonull)\n",
    "plt.show()\n",
    "\n",
    "ratio0 = round(len(hotel_nonull[hotel_nonull['is_canceled'] == 0]) / len(hotel_nonull) * 100 , 2)\n",
    "ratio1 = round(len(hotel_nonull[hotel_nonull['is_canceled'] == 1]) / len(hotel_nonull) * 100 , 2)\n",
    "\n",
    "print(\"0의 비율 :\", ratio0)\n",
    "print(\"1의 비율 :\", ratio1)"
   ]
  },
  {
   "cell_type": "code",
   "execution_count": 57,
   "metadata": {},
   "outputs": [
    {
     "name": "stdout",
     "output_type": "stream",
     "text": [
      "<class 'pandas.core.frame.DataFrame'>\n",
      "MultiIndex: 19995 entries, ('No Deposit', np.int64(0)) to ('Refundable', np.int64(16851))\n",
      "Data columns (total 10 columns):\n",
      " #   Column                          Non-Null Count  Dtype  \n",
      "---  ------                          --------------  -----  \n",
      " 0   is_canceled                     19995 non-null  int64  \n",
      " 1   lead_time                       19995 non-null  float64\n",
      " 2   stays_in_weekend_nights         19995 non-null  int64  \n",
      " 3   stays_in_week_nights            19995 non-null  int64  \n",
      " 4   is_repeated_guest               19995 non-null  float64\n",
      " 5   previous_cancellations          19995 non-null  int64  \n",
      " 6   previous_bookings_not_canceled  19995 non-null  int64  \n",
      " 7   booking_changes                 19995 non-null  int64  \n",
      " 8   days_in_waiting_list            19995 non-null  int64  \n",
      " 9   adr                             19995 non-null  float64\n",
      "dtypes: float64(3), int64(7)\n",
      "memory usage: 2.2+ MB\n"
     ]
    }
   ],
   "source": [
    "hotel_nonull.info()"
   ]
  },
  {
   "cell_type": "code",
   "execution_count": 58,
   "metadata": {},
   "outputs": [],
   "source": [
    "## 랜덤오버 샘플링, SMOTE \n",
    "from imblearn.over_sampling import RandomOverSampler, SMOTE\n",
    "import time"
   ]
  },
  {
   "cell_type": "code",
   "execution_count": 59,
   "metadata": {},
   "outputs": [],
   "source": [
    "##원본 데이터 \n",
    "x = hotel_nonull[hotel_nonull.columns.difference(['is_canceled'])]\n",
    "y = hotel_nonull['is_canceled']"
   ]
  },
  {
   "cell_type": "code",
   "execution_count": 60,
   "metadata": {},
   "outputs": [
    {
     "name": "stdout",
     "output_type": "stream",
     "text": [
      "0.00531315803527832\n"
     ]
    }
   ],
   "source": [
    "## 랜덤오버샘플링\n",
    "start = time.time()\n",
    "ros = RandomOverSampler(random_state=42)\n",
    "x_ro, y_ro = ros.fit_resample(x, y)\n",
    "end = time.time()\n",
    "print(f\"{end - start}\")"
   ]
  },
  {
   "cell_type": "code",
   "execution_count": 61,
   "metadata": {},
   "outputs": [
    {
     "name": "stdout",
     "output_type": "stream",
     "text": [
      "0.011993646621704102\n"
     ]
    }
   ],
   "source": [
    "## SMOTE\n",
    "start = time.time()\n",
    "sm = SMOTE(random_state=42)\n",
    "x_sm, y_sm = sm.fit_resample(x, y)\n",
    "end = time.time()\n",
    "print(f\"{end - start}\")"
   ]
  },
  {
   "cell_type": "code",
   "execution_count": 62,
   "metadata": {},
   "outputs": [],
   "source": [
    "from sklearn.model_selection import train_test_split\n",
    "from sklearn.ensemble import RandomForestClassifier\n",
    "from sklearn.metrics import classification_report"
   ]
  },
  {
   "cell_type": "code",
   "execution_count": 63,
   "metadata": {},
   "outputs": [
    {
     "name": "stdout",
     "output_type": "stream",
     "text": [
      "train 정확도 : 0.930545136284071 \n",
      "\n",
      "              precision    recall  f1-score   support\n",
      "\n",
      "           0       0.91      1.00      0.95      3519\n",
      "           1       0.91      0.32      0.47       480\n",
      "\n",
      "    accuracy                           0.91      3999\n",
      "   macro avg       0.91      0.66      0.71      3999\n",
      "weighted avg       0.91      0.91      0.90      3999\n",
      "\n",
      "0.8624727725982666\n"
     ]
    }
   ],
   "source": [
    "## 원데이터를 이용한 랜덤포레스트\n",
    "start = time.time()\n",
    "x_train, x_test, y_train, y_test = train_test_split(x, y, test_size = 0.2, stratify = y, random_state=100)\n",
    "clf = RandomForestClassifier(n_estimators=100, min_samples_split=10)\n",
    "clf.fit(x_train, y_train)\n",
    "print(\"train 정확도 :\", clf.score(x_train, y_train), '\\n')\n",
    "pred = clf.predict(x_test)\n",
    "end = time.time()\n",
    "print(classification_report(y_test, pred))\n",
    "print(f\"{end - start}\")"
   ]
  },
  {
   "cell_type": "code",
   "execution_count": 64,
   "metadata": {},
   "outputs": [
    {
     "name": "stdout",
     "output_type": "stream",
     "text": [
      "train 정확도 : 0.9842639954532537 \n",
      "\n",
      "              precision    recall  f1-score   support\n",
      "\n",
      "           0       0.97      0.92      0.94      3519\n",
      "           1       0.92      0.97      0.95      3519\n",
      "\n",
      "    accuracy                           0.95      7038\n",
      "   macro avg       0.95      0.95      0.95      7038\n",
      "weighted avg       0.95      0.95      0.95      7038\n",
      "\n",
      "1.4123365879058838\n"
     ]
    }
   ],
   "source": [
    "## 랜덤오버샘플링\n",
    "start = time.time()\n",
    "x_ro_train, x_ro_test, y_ro_train, y_ro_test = train_test_split(x_ro, y_ro, test_size = 0.2, stratify = y_ro, random_state=100)\n",
    "clf_ro = RandomForestClassifier(n_estimators=100, min_samples_split=10)\n",
    "clf_ro.fit(x_ro_train, y_ro_train)\n",
    "print(\"train 정확도 :\", clf_ro.score(x_ro_train, y_ro_train), '\\n')\n",
    "pred_ro = clf_ro.predict(x_ro_test)\n",
    "end = time.time()\n",
    "print(classification_report(y_ro_test, pred_ro))\n",
    "print(f\"{end - start}\")"
   ]
  },
  {
   "cell_type": "code",
   "execution_count": 65,
   "metadata": {},
   "outputs": [
    {
     "name": "stdout",
     "output_type": "stream",
     "text": [
      "train 정확도 : 0.9616013071895425\n",
      "              precision    recall  f1-score   support\n",
      "\n",
      "           0       0.87      0.87      0.87      3519\n",
      "           1       0.87      0.87      0.87      3519\n",
      "\n",
      "    accuracy                           0.87      7038\n",
      "   macro avg       0.87      0.87      0.87      7038\n",
      "weighted avg       0.87      0.87      0.87      7038\n",
      "\n",
      "1.8835487365722656\n"
     ]
    }
   ],
   "source": [
    "## SMOTE \n",
    "start = time.time()\n",
    "x_sm_train, x_sm_test, y_sm_train, y_sm_test = train_test_split(x_sm, y_sm, test_size = 0.2, stratify=y_sm, random_state=100)\n",
    "clf_sm = RandomForestClassifier(n_estimators=100, min_samples_split=10)\n",
    "clf_sm.fit(x_sm_train, y_sm_train)\n",
    "print(\"train 정확도 :\", clf_sm.score(x_sm_train, y_sm_train))\n",
    "pred_sm = clf_sm.predict(x_sm_test)\n",
    "end = time.time()\n",
    "print(classification_report(y_sm_test, pred_sm))\n",
    "print(f\"{end - start}\")"
   ]
  },
  {
   "cell_type": "code",
   "execution_count": 66,
   "metadata": {},
   "outputs": [
    {
     "name": "stdout",
     "output_type": "stream",
     "text": [
      "원본 데이터셋의 모델링 수행 속도 : 1.7895405292510986\n",
      "RO 데이터셋의 모델링 수행 속도 : 2.833641290664673\n",
      "SMOTE 데이터셋의 모델링 수행 속도 : 3.5787038803100586\n"
     ]
    }
   ],
   "source": [
    "raw = 1.7895405292510986\n",
    "ro = 0.018232345581054688 + 2.815408945083618\n",
    "sm = 0.03938770294189453 + 3.539316177368164\n",
    "print(\"원본 데이터셋의 모델링 수행 속도 :\", raw)\n",
    "print(\"RO 데이터셋의 모델링 수행 속도 :\", ro)\n",
    "print(\"SMOTE 데이터셋의 모델링 수행 속도 :\", sm)"
   ]
  },
  {
   "attachments": {},
   "cell_type": "markdown",
   "metadata": {},
   "source": [
    "- 이번 모델링에서는 RO이 속도면에서나 정확도 면에서 모두 가장 우수하게 나왔다"
   ]
  },
  {
   "cell_type": "code",
   "execution_count": null,
   "metadata": {},
   "outputs": [],
   "source": []
  }
 ],
 "metadata": {
  "kernelspec": {
   "display_name": "Python 3",
   "language": "python",
   "name": "python3"
  },
  "language_info": {
   "codemirror_mode": {
    "name": "ipython",
    "version": 3
   },
   "file_extension": ".py",
   "mimetype": "text/x-python",
   "name": "python",
   "nbconvert_exporter": "python",
   "pygments_lexer": "ipython3",
   "version": "3.11.8"
  },
  "orig_nbformat": 4,
  "vscode": {
   "interpreter": {
    "hash": "9b5f1854d503dd71c3856bf3749ce047b3ad1e5d370827a8e1d34b45663952a6"
   }
  }
 },
 "nbformat": 4,
 "nbformat_minor": 2
}
